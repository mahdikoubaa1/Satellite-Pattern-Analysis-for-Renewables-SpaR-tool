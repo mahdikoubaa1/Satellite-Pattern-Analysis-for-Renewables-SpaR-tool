{
 "cells": [
  {
   "cell_type": "code",
   "execution_count": 4,
   "metadata": {},
   "outputs": [],
   "source": [
    "import sys\n",
    "sys.path.append(\"../\")\n",
    "from PIL import Image\n",
    "import numpy as np\n",
    "import os\n",
    "import torch\n",
    "from pathlib import Path\n",
    "import rasterio\n",
    "from rasterio.mask import mask\n",
    "from shapely.geometry import box\n",
    "import json\n",
    "from torchvision import datasets, transforms\n",
    "import random\n",
    "import pycrs\n",
    "from tqdm import tqdm\n",
    "import geopandas as gpd\n",
    "import gc\n",
    "from split_tiff import Split\n",
    "\n",
    "split=Split()\n",
    "torch.cuda.empty_cache()\n",
    "gc.collect()\n",
    "\n",
    "data_path= \"/mnt/9TB/koubaa/23_06_26_09\"\n",
    "onlyfiles = [f for f in os.listdir(data_path) if os.path.isfile(os.path.join(data_path, f))]"
   ]
  },
  {
   "cell_type": "code",
   "execution_count": 5,
   "metadata": {},
   "outputs": [
    {
     "name": "stdout",
     "output_type": "stream",
     "text": [
      "5308\n"
     ]
    }
   ],
   "source": [
    "random.shuffle(onlyfiles)\n",
    "print(len(onlyfiles))\n"
   ]
  },
  {
   "cell_type": "code",
   "execution_count": null,
   "metadata": {},
   "outputs": [
    {
     "name": "stderr",
     "output_type": "stream",
     "text": [
      "Extracting images:   0%|                                                                                                                                                                   | 0/100 [00:00<?, ?it/s]Warning 1: TIFFReadDirectory:Sum of Photometric type-related color channels and ExtraSamples doesn't match SamplesPerPixel. Defining non-color channels as ExtraSamples.\n"
     ]
    },
    {
     "name": "stderr",
     "output_type": "stream",
     "text": [
      "Extracting images:   1%|█▌                                                                                                                                                         | 1/100 [00:01<02:43,  1.65s/it]Warning 1: TIFFReadDirectory:Sum of Photometric type-related color channels and ExtraSamples doesn't match SamplesPerPixel. Defining non-color channels as ExtraSamples.\n",
      "Extracting images:   2%|███                                                                                                                                                        | 2/100 [00:03<02:24,  1.47s/it]Warning 1: TIFFReadDirectory:Sum of Photometric type-related color channels and ExtraSamples doesn't match SamplesPerPixel. Defining non-color channels as ExtraSamples.\n",
      "Extracting images:   3%|████▋                                                                                                                                                      | 3/100 [00:04<02:23,  1.48s/it]Warning 1: TIFFReadDirectory:Sum of Photometric type-related color channels and ExtraSamples doesn't match SamplesPerPixel. Defining non-color channels as ExtraSamples.\n",
      "Extracting images:   4%|██████▏                                                                                                                                                    | 4/100 [00:06<03:01,  1.89s/it]Warning 1: TIFFReadDirectory:Sum of Photometric type-related color channels and ExtraSamples doesn't match SamplesPerPixel. Defining non-color channels as ExtraSamples.\n",
      "Extracting images:   5%|███████▊                                                                                                                                                   | 5/100 [00:09<03:26,  2.18s/it]Warning 1: TIFFReadDirectory:Sum of Photometric type-related color channels and ExtraSamples doesn't match SamplesPerPixel. Defining non-color channels as ExtraSamples.\n",
      "Extracting images:   6%|█████████▎                                                                                                                                                 | 6/100 [00:12<03:41,  2.35s/it]Warning 1: TIFFReadDirectory:Sum of Photometric type-related color channels and ExtraSamples doesn't match SamplesPerPixel. Defining non-color channels as ExtraSamples.\n",
      "Extracting images:   7%|██████████▊                                                                                                                                                | 7/100 [00:14<03:31,  2.28s/it]Warning 1: TIFFReadDirectory:Sum of Photometric type-related color channels and ExtraSamples doesn't match SamplesPerPixel. Defining non-color channels as ExtraSamples.\n",
      "Extracting images:   8%|████████████▍                                                                                                                                              | 8/100 [00:15<03:05,  2.02s/it]Warning 1: TIFFReadDirectory:Sum of Photometric type-related color channels and ExtraSamples doesn't match SamplesPerPixel. Defining non-color channels as ExtraSamples.\n",
      "Extracting images:   9%|█████████████▉                                                                                                                                             | 9/100 [00:17<02:58,  1.96s/it]Warning 1: TIFFReadDirectory:Sum of Photometric type-related color channels and ExtraSamples doesn't match SamplesPerPixel. Defining non-color channels as ExtraSamples.\n",
      "Extracting images:  10%|███████████████▍                                                                                                                                          | 10/100 [00:20<03:13,  2.15s/it]Warning 1: TIFFReadDirectory:Sum of Photometric type-related color channels and ExtraSamples doesn't match SamplesPerPixel. Defining non-color channels as ExtraSamples.\n",
      "Extracting images:  11%|████████████████▉                                                                                                                                         | 11/100 [00:21<02:44,  1.84s/it]Warning 1: TIFFReadDirectory:Sum of Photometric type-related color channels and ExtraSamples doesn't match SamplesPerPixel. Defining non-color channels as ExtraSamples.\n",
      "Extracting images:  12%|██████████████████▍                                                                                                                                       | 12/100 [00:22<02:29,  1.69s/it]Warning 1: TIFFReadDirectory:Sum of Photometric type-related color channels and ExtraSamples doesn't match SamplesPerPixel. Defining non-color channels as ExtraSamples.\n",
      "Extracting images:  13%|████████████████████                                                                                                                                      | 13/100 [00:25<02:39,  1.83s/it]Warning 1: TIFFReadDirectory:Sum of Photometric type-related color channels and ExtraSamples doesn't match SamplesPerPixel. Defining non-color channels as ExtraSamples.\n",
      "Extracting images:  14%|█████████████████████▌                                                                                                                                    | 14/100 [00:26<02:27,  1.71s/it]Warning 1: TIFFReadDirectory:Sum of Photometric type-related color channels and ExtraSamples doesn't match SamplesPerPixel. Defining non-color channels as ExtraSamples.\n",
      "Extracting images:  15%|███████████████████████                                                                                                                                   | 15/100 [00:28<02:31,  1.79s/it]Warning 1: TIFFReadDirectory:Sum of Photometric type-related color channels and ExtraSamples doesn't match SamplesPerPixel. Defining non-color channels as ExtraSamples.\n",
      "Extracting images:  16%|████████████████████████▋                                                                                                                                 | 16/100 [00:30<02:31,  1.81s/it]Warning 1: TIFFReadDirectory:Sum of Photometric type-related color channels and ExtraSamples doesn't match SamplesPerPixel. Defining non-color channels as ExtraSamples.\n",
      "Extracting images:  17%|██████████████████████████▏                                                                                                                               | 17/100 [00:34<03:19,  2.41s/it]Warning 1: TIFFReadDirectory:Sum of Photometric type-related color channels and ExtraSamples doesn't match SamplesPerPixel. Defining non-color channels as ExtraSamples.\n",
      "Extracting images:  18%|███████████████████████████▋                                                                                                                              | 18/100 [00:36<03:06,  2.28s/it]Warning 1: TIFFReadDirectory:Sum of Photometric type-related color channels and ExtraSamples doesn't match SamplesPerPixel. Defining non-color channels as ExtraSamples.\n",
      "Extracting images:  19%|█████████████████████████████▎                                                                                                                            | 19/100 [00:38<03:17,  2.44s/it]Warning 1: TIFFReadDirectory:Sum of Photometric type-related color channels and ExtraSamples doesn't match SamplesPerPixel. Defining non-color channels as ExtraSamples.\n",
      "Extracting images:  20%|██████████████████████████████▊                                                                                                                           | 20/100 [00:41<03:21,  2.52s/it]Warning 1: TIFFReadDirectory:Sum of Photometric type-related color channels and ExtraSamples doesn't match SamplesPerPixel. Defining non-color channels as ExtraSamples.\n",
      "Extracting images:  21%|████████████████████████████████▎                                                                                                                         | 21/100 [00:47<04:39,  3.53s/it]Warning 1: TIFFReadDirectory:Sum of Photometric type-related color channels and ExtraSamples doesn't match SamplesPerPixel. Defining non-color channels as ExtraSamples.\n",
      "Extracting images:  22%|█████████████████████████████████▉                                                                                                                        | 22/100 [00:54<06:01,  4.64s/it]Warning 1: TIFFReadDirectory:Sum of Photometric type-related color channels and ExtraSamples doesn't match SamplesPerPixel. Defining non-color channels as ExtraSamples.\n",
      "Extracting images:  23%|███████████████████████████████████▍                                                                                                                      | 23/100 [01:12<11:06,  8.66s/it]Warning 1: TIFFReadDirectory:Sum of Photometric type-related color channels and ExtraSamples doesn't match SamplesPerPixel. Defining non-color channels as ExtraSamples.\n",
      "Extracting images:  24%|████████████████████████████████████▉                                                                                                                     | 24/100 [01:19<10:05,  7.97s/it]Warning 1: TIFFReadDirectory:Sum of Photometric type-related color channels and ExtraSamples doesn't match SamplesPerPixel. Defining non-color channels as ExtraSamples.\n",
      "Extracting images:  25%|██████████████████████████████████████▌                                                                                                                   | 25/100 [01:20<07:32,  6.04s/it]Warning 1: TIFFReadDirectory:Sum of Photometric type-related color channels and ExtraSamples doesn't match SamplesPerPixel. Defining non-color channels as ExtraSamples.\n",
      "Extracting images:  26%|████████████████████████████████████████                                                                                                                  | 26/100 [01:21<05:37,  4.56s/it]Warning 1: TIFFReadDirectory:Sum of Photometric type-related color channels and ExtraSamples doesn't match SamplesPerPixel. Defining non-color channels as ExtraSamples.\n",
      "Extracting images:  27%|█████████████████████████████████████████▌                                                                                                                | 27/100 [01:24<04:46,  3.92s/it]Warning 1: TIFFReadDirectory:Sum of Photometric type-related color channels and ExtraSamples doesn't match SamplesPerPixel. Defining non-color channels as ExtraSamples.\n",
      "Extracting images:  28%|███████████████████████████████████████████                                                                                                               | 28/100 [01:26<03:58,  3.31s/it]Warning 1: TIFFReadDirectory:Sum of Photometric type-related color channels and ExtraSamples doesn't match SamplesPerPixel. Defining non-color channels as ExtraSamples.\n",
      "Extracting images:  29%|████████████████████████████████████████████▋                                                                                                             | 29/100 [01:27<03:24,  2.88s/it]Warning 1: TIFFReadDirectory:Sum of Photometric type-related color channels and ExtraSamples doesn't match SamplesPerPixel. Defining non-color channels as ExtraSamples.\n",
      "Extracting images:  30%|██████████████████████████████████████████████▏                                                                                                           | 30/100 [01:29<03:04,  2.63s/it]Warning 1: TIFFReadDirectory:Sum of Photometric type-related color channels and ExtraSamples doesn't match SamplesPerPixel. Defining non-color channels as ExtraSamples.\n",
      "Extracting images:  31%|███████████████████████████████████████████████▋                                                                                                          | 31/100 [01:31<02:44,  2.39s/it]Warning 1: TIFFReadDirectory:Sum of Photometric type-related color channels and ExtraSamples doesn't match SamplesPerPixel. Defining non-color channels as ExtraSamples.\n",
      "Extracting images:  32%|█████████████████████████████████████████████████▎                                                                                                        | 32/100 [01:33<02:31,  2.22s/it]Warning 1: TIFFReadDirectory:Sum of Photometric type-related color channels and ExtraSamples doesn't match SamplesPerPixel. Defining non-color channels as ExtraSamples.\n",
      "Extracting images:  33%|██████████████████████████████████████████████████▊                                                                                                       | 33/100 [01:35<02:30,  2.24s/it]Warning 1: TIFFReadDirectory:Sum of Photometric type-related color channels and ExtraSamples doesn't match SamplesPerPixel. Defining non-color channels as ExtraSamples.\n",
      "Extracting images:  34%|████████████████████████████████████████████████████▎                                                                                                     | 34/100 [01:38<02:41,  2.45s/it]Warning 1: TIFFReadDirectory:Sum of Photometric type-related color channels and ExtraSamples doesn't match SamplesPerPixel. Defining non-color channels as ExtraSamples.\n",
      "Extracting images:  35%|█████████████████████████████████████████████████████▉                                                                                                    | 35/100 [01:40<02:28,  2.28s/it]Warning 1: TIFFReadDirectory:Sum of Photometric type-related color channels and ExtraSamples doesn't match SamplesPerPixel. Defining non-color channels as ExtraSamples.\n",
      "Extracting images:  36%|███████████████████████████████████████████████████████▍                                                                                                  | 36/100 [01:42<02:23,  2.24s/it]Warning 1: TIFFReadDirectory:Sum of Photometric type-related color channels and ExtraSamples doesn't match SamplesPerPixel. Defining non-color channels as ExtraSamples.\n",
      "Extracting images:  37%|████████████████████████████████████████████████████████▉                                                                                                 | 37/100 [01:44<02:18,  2.19s/it]Warning 1: TIFFReadDirectory:Sum of Photometric type-related color channels and ExtraSamples doesn't match SamplesPerPixel. Defining non-color channels as ExtraSamples.\n",
      "Extracting images:  38%|██████████████████████████████████████████████████████████▌                                                                                               | 38/100 [01:46<02:10,  2.11s/it]Warning 1: TIFFReadDirectory:Sum of Photometric type-related color channels and ExtraSamples doesn't match SamplesPerPixel. Defining non-color channels as ExtraSamples.\n",
      "Extracting images:  39%|████████████████████████████████████████████████████████████                                                                                              | 39/100 [01:49<02:10,  2.14s/it]Warning 1: TIFFReadDirectory:Sum of Photometric type-related color channels and ExtraSamples doesn't match SamplesPerPixel. Defining non-color channels as ExtraSamples.\n",
      "Extracting images:  40%|█████████████████████████████████████████████████████████████▌                                                                                            | 40/100 [01:51<02:08,  2.15s/it]Warning 1: TIFFReadDirectory:Sum of Photometric type-related color channels and ExtraSamples doesn't match SamplesPerPixel. Defining non-color channels as ExtraSamples.\n",
      "Extracting images:  41%|███████████████████████████████████████████████████████████████▏                                                                                          | 41/100 [01:53<02:15,  2.30s/it]Warning 1: TIFFReadDirectory:Sum of Photometric type-related color channels and ExtraSamples doesn't match SamplesPerPixel. Defining non-color channels as ExtraSamples.\n",
      "Extracting images:  42%|████████████████████████████████████████████████████████████████▋                                                                                         | 42/100 [01:56<02:11,  2.27s/it]Warning 1: TIFFReadDirectory:Sum of Photometric type-related color channels and ExtraSamples doesn't match SamplesPerPixel. Defining non-color channels as ExtraSamples.\n",
      "Extracting images:  43%|██████████████████████████████████████████████████████████████████▏                                                                                       | 43/100 [01:58<02:08,  2.26s/it]Warning 1: TIFFReadDirectory:Sum of Photometric type-related color channels and ExtraSamples doesn't match SamplesPerPixel. Defining non-color channels as ExtraSamples.\n",
      "Extracting images:  44%|███████████████████████████████████████████████████████████████████▊                                                                                      | 44/100 [02:00<02:00,  2.15s/it]Warning 1: TIFFReadDirectory:Sum of Photometric type-related color channels and ExtraSamples doesn't match SamplesPerPixel. Defining non-color channels as ExtraSamples.\n",
      "Extracting images:  45%|█████████████████████████████████████████████████████████████████████▎                                                                                    | 45/100 [02:02<01:57,  2.14s/it]Warning 1: TIFFReadDirectory:Sum of Photometric type-related color channels and ExtraSamples doesn't match SamplesPerPixel. Defining non-color channels as ExtraSamples.\n",
      "Extracting images:  46%|██████████████████████████████████████████████████████████████████████▊                                                                                   | 46/100 [02:04<01:52,  2.08s/it]Warning 1: TIFFReadDirectory:Sum of Photometric type-related color channels and ExtraSamples doesn't match SamplesPerPixel. Defining non-color channels as ExtraSamples.\n",
      "Extracting images:  47%|████████████████████████████████████████████████████████████████████████▍                                                                                 | 47/100 [02:06<01:48,  2.05s/it]Warning 1: TIFFReadDirectory:Sum of Photometric type-related color channels and ExtraSamples doesn't match SamplesPerPixel. Defining non-color channels as ExtraSamples.\n",
      "Extracting images:  48%|█████████████████████████████████████████████████████████████████████████▉                                                                                | 48/100 [02:08<01:56,  2.24s/it]Warning 1: TIFFReadDirectory:Sum of Photometric type-related color channels and ExtraSamples doesn't match SamplesPerPixel. Defining non-color channels as ExtraSamples.\n",
      "Extracting images:  49%|███████████████████████████████████████████████████████████████████████████▍                                                                              | 49/100 [02:11<01:52,  2.21s/it]Warning 1: TIFFReadDirectory:Sum of Photometric type-related color channels and ExtraSamples doesn't match SamplesPerPixel. Defining non-color channels as ExtraSamples.\n",
      "Extracting images:  50%|█████████████████████████████████████████████████████████████████████████████                                                                             | 50/100 [02:13<01:49,  2.19s/it]Warning 1: TIFFReadDirectory:Sum of Photometric type-related color channels and ExtraSamples doesn't match SamplesPerPixel. Defining non-color channels as ExtraSamples.\n",
      "Extracting images:  51%|██████████████████████████████████████████████████████████████████████████████▌                                                                           | 51/100 [02:15<01:49,  2.24s/it]Warning 1: TIFFReadDirectory:Sum of Photometric type-related color channels and ExtraSamples doesn't match SamplesPerPixel. Defining non-color channels as ExtraSamples.\n",
      "Extracting images:  52%|████████████████████████████████████████████████████████████████████████████████                                                                          | 52/100 [02:17<01:45,  2.21s/it]Warning 1: TIFFReadDirectory:Sum of Photometric type-related color channels and ExtraSamples doesn't match SamplesPerPixel. Defining non-color channels as ExtraSamples.\n",
      "Extracting images:  53%|█████████████████████████████████████████████████████████████████████████████████▌                                                                        | 53/100 [02:19<01:41,  2.15s/it]Warning 1: TIFFReadDirectory:Sum of Photometric type-related color channels and ExtraSamples doesn't match SamplesPerPixel. Defining non-color channels as ExtraSamples.\n",
      "Extracting images:  54%|███████████████████████████████████████████████████████████████████████████████████▏                                                                      | 54/100 [02:21<01:39,  2.16s/it]Warning 1: TIFFReadDirectory:Sum of Photometric type-related color channels and ExtraSamples doesn't match SamplesPerPixel. Defining non-color channels as ExtraSamples.\n",
      "Extracting images:  55%|████████████████████████████████████████████████████████████████████████████████████▋                                                                     | 55/100 [02:24<01:43,  2.29s/it]Warning 1: TIFFReadDirectory:Sum of Photometric type-related color channels and ExtraSamples doesn't match SamplesPerPixel. Defining non-color channels as ExtraSamples.\n",
      "Extracting images:  56%|██████████████████████████████████████████████████████████████████████████████████████▏                                                                   | 56/100 [02:26<01:38,  2.23s/it]Warning 1: TIFFReadDirectory:Sum of Photometric type-related color channels and ExtraSamples doesn't match SamplesPerPixel. Defining non-color channels as ExtraSamples.\n",
      "Extracting images:  57%|███████████████████████████████████████████████████████████████████████████████████████▊                                                                  | 57/100 [02:28<01:35,  2.22s/it]Warning 1: TIFFReadDirectory:Sum of Photometric type-related color channels and ExtraSamples doesn't match SamplesPerPixel. Defining non-color channels as ExtraSamples.\n",
      "Extracting images:  58%|█████████████████████████████████████████████████████████████████████████████████████████▎                                                                | 58/100 [02:31<01:34,  2.25s/it]Warning 1: TIFFReadDirectory:Sum of Photometric type-related color channels and ExtraSamples doesn't match SamplesPerPixel. Defining non-color channels as ExtraSamples.\n",
      "Extracting images:  59%|██████████████████████████████████████████████████████████████████████████████████████████▊                                                               | 59/100 [02:33<01:30,  2.22s/it]Warning 1: TIFFReadDirectory:Sum of Photometric type-related color channels and ExtraSamples doesn't match SamplesPerPixel. Defining non-color channels as ExtraSamples.\n",
      "Extracting images:  60%|████████████████████████████████████████████████████████████████████████████████████████████▍                                                             | 60/100 [02:35<01:29,  2.24s/it]Warning 1: TIFFReadDirectory:Sum of Photometric type-related color channels and ExtraSamples doesn't match SamplesPerPixel. Defining non-color channels as ExtraSamples.\n",
      "Extracting images:  61%|█████████████████████████████████████████████████████████████████████████████████████████████▉                                                            | 61/100 [02:37<01:28,  2.27s/it]Warning 1: TIFFReadDirectory:Sum of Photometric type-related color channels and ExtraSamples doesn't match SamplesPerPixel. Defining non-color channels as ExtraSamples.\n",
      "Extracting images:  62%|███████████████████████████████████████████████████████████████████████████████████████████████▍                                                          | 62/100 [02:40<01:32,  2.43s/it]Warning 1: TIFFReadDirectory:Sum of Photometric type-related color channels and ExtraSamples doesn't match SamplesPerPixel. Defining non-color channels as ExtraSamples.\n",
      "Extracting images:  63%|█████████████████████████████████████████████████████████████████████████████████████████████████                                                         | 63/100 [02:43<01:29,  2.41s/it]Warning 1: TIFFReadDirectory:Sum of Photometric type-related color channels and ExtraSamples doesn't match SamplesPerPixel. Defining non-color channels as ExtraSamples.\n",
      "Extracting images:  64%|██████████████████████████████████████████████████████████████████████████████████████████████████▌                                                       | 64/100 [02:45<01:25,  2.37s/it]Warning 1: TIFFReadDirectory:Sum of Photometric type-related color channels and ExtraSamples doesn't match SamplesPerPixel. Defining non-color channels as ExtraSamples.\n",
      "Extracting images:  65%|████████████████████████████████████████████████████████████████████████████████████████████████████                                                      | 65/100 [02:47<01:22,  2.35s/it]Warning 1: TIFFReadDirectory:Sum of Photometric type-related color channels and ExtraSamples doesn't match SamplesPerPixel. Defining non-color channels as ExtraSamples.\n",
      "Extracting images:  66%|█████████████████████████████████████████████████████████████████████████████████████████████████████▋                                                    | 66/100 [02:49<01:19,  2.33s/it]Warning 1: TIFFReadDirectory:Sum of Photometric type-related color channels and ExtraSamples doesn't match SamplesPerPixel. Defining non-color channels as ExtraSamples.\n",
      "Extracting images:  67%|███████████████████████████████████████████████████████████████████████████████████████████████████████▏                                                  | 67/100 [02:52<01:16,  2.32s/it]Warning 1: TIFFReadDirectory:Sum of Photometric type-related color channels and ExtraSamples doesn't match SamplesPerPixel. Defining non-color channels as ExtraSamples.\n",
      "Extracting images:  68%|████████████████████████████████████████████████████████████████████████████████████████████████████████▋                                                 | 68/100 [02:54<01:17,  2.41s/it]Warning 1: TIFFReadDirectory:Sum of Photometric type-related color channels and ExtraSamples doesn't match SamplesPerPixel. Defining non-color channels as ExtraSamples.\n",
      "Extracting images:  69%|██████████████████████████████████████████████████████████████████████████████████████████████████████████▎                                               | 69/100 [02:57<01:14,  2.39s/it]Warning 1: TIFFReadDirectory:Sum of Photometric type-related color channels and ExtraSamples doesn't match SamplesPerPixel. Defining non-color channels as ExtraSamples.\n",
      "Extracting images:  70%|███████████████████████████████████████████████████████████████████████████████████████████████████████████▊                                              | 70/100 [03:00<01:16,  2.57s/it]Warning 1: TIFFReadDirectory:Sum of Photometric type-related color channels and ExtraSamples doesn't match SamplesPerPixel. Defining non-color channels as ExtraSamples.\n",
      "Extracting images:  71%|█████████████████████████████████████████████████████████████████████████████████████████████████████████████▎                                            | 71/100 [03:02<01:12,  2.51s/it]Warning 1: TIFFReadDirectory:Sum of Photometric type-related color channels and ExtraSamples doesn't match SamplesPerPixel. Defining non-color channels as ExtraSamples.\n",
      "Extracting images:  72%|██████████████████████████████████████████████████████████████████████████████████████████████████████████████▉                                           | 72/100 [03:05<01:09,  2.49s/it]Warning 1: TIFFReadDirectory:Sum of Photometric type-related color channels and ExtraSamples doesn't match SamplesPerPixel. Defining non-color channels as ExtraSamples.\n",
      "Extracting images:  73%|████████████████████████████████████████████████████████████████████████████████████████████████████████████████▍                                         | 73/100 [03:07<01:06,  2.47s/it]Warning 1: TIFFReadDirectory:Sum of Photometric type-related color channels and ExtraSamples doesn't match SamplesPerPixel. Defining non-color channels as ExtraSamples.\n",
      "Extracting images:  74%|█████████████████████████████████████████████████████████████████████████████████████████████████████████████████▉                                        | 74/100 [03:09<01:03,  2.43s/it]Warning 1: TIFFReadDirectory:Sum of Photometric type-related color channels and ExtraSamples doesn't match SamplesPerPixel. Defining non-color channels as ExtraSamples.\n",
      "Extracting images:  75%|███████████████████████████████████████████████████████████████████████████████████████████████████████████████████▌                                      | 75/100 [03:12<01:00,  2.43s/it]Warning 1: TIFFReadDirectory:Sum of Photometric type-related color channels and ExtraSamples doesn't match SamplesPerPixel. Defining non-color channels as ExtraSamples.\n",
      "Extracting images:  76%|█████████████████████████████████████████████████████████████████████████████████████████████████████████████████████                                     | 76/100 [03:14<00:57,  2.42s/it]Warning 1: TIFFReadDirectory:Sum of Photometric type-related color channels and ExtraSamples doesn't match SamplesPerPixel. Defining non-color channels as ExtraSamples.\n",
      "Extracting images:  77%|██████████████████████████████████████████████████████████████████████████████████████████████████████████████████████▌                                   | 77/100 [03:17<01:00,  2.61s/it]Warning 1: TIFFReadDirectory:Sum of Photometric type-related color channels and ExtraSamples doesn't match SamplesPerPixel. Defining non-color channels as ExtraSamples.\n",
      "Extracting images:  78%|████████████████████████████████████████████████████████████████████████████████████████████████████████████████████████                                  | 78/100 [03:20<00:56,  2.57s/it]Warning 1: TIFFReadDirectory:Sum of Photometric type-related color channels and ExtraSamples doesn't match SamplesPerPixel. Defining non-color channels as ExtraSamples.\n",
      "Extracting images:  79%|█████████████████████████████████████████████████████████████████████████████████████████████████████████████████████████▋                                | 79/100 [03:22<00:53,  2.57s/it]Warning 1: TIFFReadDirectory:Sum of Photometric type-related color channels and ExtraSamples doesn't match SamplesPerPixel. Defining non-color channels as ExtraSamples.\n",
      "Extracting images:  80%|███████████████████████████████████████████████████████████████████████████████████████████████████████████████████████████▏                              | 80/100 [03:24<00:45,  2.26s/it]Warning 1: TIFFReadDirectory:Sum of Photometric type-related color channels and ExtraSamples doesn't match SamplesPerPixel. Defining non-color channels as ExtraSamples.\n",
      "Extracting images:  81%|████████████████████████████████████████████████████████████████████████████████████████████████████████████████████████████▋                             | 81/100 [03:26<00:44,  2.36s/it]Warning 1: TIFFReadDirectory:Sum of Photometric type-related color channels and ExtraSamples doesn't match SamplesPerPixel. Defining non-color channels as ExtraSamples.\n",
      "Extracting images:  82%|██████████████████████████████████████████████████████████████████████████████████████████████████████████████████████████████▎                           | 82/100 [03:29<00:43,  2.41s/it]Warning 1: TIFFReadDirectory:Sum of Photometric type-related color channels and ExtraSamples doesn't match SamplesPerPixel. Defining non-color channels as ExtraSamples.\n",
      "Extracting images:  83%|███████████████████████████████████████████████████████████████████████████████████████████████████████████████████████████████▊                          | 83/100 [03:31<00:41,  2.46s/it]Warning 1: TIFFReadDirectory:Sum of Photometric type-related color channels and ExtraSamples doesn't match SamplesPerPixel. Defining non-color channels as ExtraSamples.\n",
      "Extracting images:  84%|█████████████████████████████████████████████████████████████████████████████████████████████████████████████████████████████████▎                        | 84/100 [03:35<00:42,  2.68s/it]Warning 1: TIFFReadDirectory:Sum of Photometric type-related color channels and ExtraSamples doesn't match SamplesPerPixel. Defining non-color channels as ExtraSamples.\n",
      "Extracting images:  85%|██████████████████████████████████████████████████████████████████████████████████████████████████████████████████████████████████▉                       | 85/100 [03:37<00:39,  2.64s/it]Warning 1: TIFFReadDirectory:Sum of Photometric type-related color channels and ExtraSamples doesn't match SamplesPerPixel. Defining non-color channels as ExtraSamples.\n",
      "Extracting images:  86%|████████████████████████████████████████████████████████████████████████████████████████████████████████████████████████████████████▍                     | 86/100 [03:40<00:36,  2.61s/it]Warning 1: TIFFReadDirectory:Sum of Photometric type-related color channels and ExtraSamples doesn't match SamplesPerPixel. Defining non-color channels as ExtraSamples.\n",
      "Extracting images:  87%|█████████████████████████████████████████████████████████████████████████████████████████████████████████████████████████████████████▉                    | 87/100 [03:42<00:34,  2.62s/it]Warning 1: TIFFReadDirectory:Sum of Photometric type-related color channels and ExtraSamples doesn't match SamplesPerPixel. Defining non-color channels as ExtraSamples.\n",
      "Extracting images:  88%|███████████████████████████████████████████████████████████████████████████████████████████████████████████████████████████████████████▌                  | 88/100 [03:45<00:32,  2.68s/it]Warning 1: TIFFReadDirectory:Sum of Photometric type-related color channels and ExtraSamples doesn't match SamplesPerPixel. Defining non-color channels as ExtraSamples.\n",
      "Extracting images:  89%|█████████████████████████████████████████████████████████████████████████████████████████████████████████████████████████████████████████                 | 89/100 [03:48<00:29,  2.67s/it]Warning 1: TIFFReadDirectory:Sum of Photometric type-related color channels and ExtraSamples doesn't match SamplesPerPixel. Defining non-color channels as ExtraSamples.\n",
      "Extracting images:  90%|██████████████████████████████████████████████████████████████████████████████████████████████████████████████████████████████████████████▌               | 90/100 [03:51<00:27,  2.71s/it]Warning 1: TIFFReadDirectory:Sum of Photometric type-related color channels and ExtraSamples doesn't match SamplesPerPixel. Defining non-color channels as ExtraSamples.\n",
      "Extracting images:  91%|████████████████████████████████████████████████████████████████████████████████████████████████████████████████████████████████████████████▏             | 91/100 [03:53<00:24,  2.73s/it]Warning 1: TIFFReadDirectory:Sum of Photometric type-related color channels and ExtraSamples doesn't match SamplesPerPixel. Defining non-color channels as ExtraSamples.\n",
      "Extracting images:  92%|█████████████████████████████████████████████████████████████████████████████████████████████████████████████████████████████████████████████▋            | 92/100 [03:57<00:24,  3.00s/it]Warning 1: TIFFReadDirectory:Sum of Photometric type-related color channels and ExtraSamples doesn't match SamplesPerPixel. Defining non-color channels as ExtraSamples.\n",
      "Extracting images:  93%|███████████████████████████████████████████████████████████████████████████████████████████████████████████████████████████████████████████████▏          | 93/100 [04:00<00:20,  2.96s/it]Warning 1: TIFFReadDirectory:Sum of Photometric type-related color channels and ExtraSamples doesn't match SamplesPerPixel. Defining non-color channels as ExtraSamples.\n",
      "Extracting images:  94%|████████████████████████████████████████████████████████████████████████████████████████████████████████████████████████████████████████████████▊         | 94/100 [04:03<00:17,  2.96s/it]Warning 1: TIFFReadDirectory:Sum of Photometric type-related color channels and ExtraSamples doesn't match SamplesPerPixel. Defining non-color channels as ExtraSamples.\n",
      "Extracting images:  95%|██████████████████████████████████████████████████████████████████████████████████████████████████████████████████████████████████████████████████▎       | 95/100 [04:06<00:14,  2.94s/it]Warning 1: TIFFReadDirectory:Sum of Photometric type-related color channels and ExtraSamples doesn't match SamplesPerPixel. Defining non-color channels as ExtraSamples.\n",
      "Extracting images:  96%|███████████████████████████████████████████████████████████████████████████████████████████████████████████████████████████████████████████████████▊      | 96/100 [04:09<00:11,  2.94s/it]Warning 1: TIFFReadDirectory:Sum of Photometric type-related color channels and ExtraSamples doesn't match SamplesPerPixel. Defining non-color channels as ExtraSamples.\n",
      "Extracting images:  97%|█████████████████████████████████████████████████████████████████████████████████████████████████████████████████████████████████████████████████████▍    | 97/100 [04:12<00:08,  2.93s/it]Warning 1: TIFFReadDirectory:Sum of Photometric type-related color channels and ExtraSamples doesn't match SamplesPerPixel. Defining non-color channels as ExtraSamples.\n",
      "Extracting images:  98%|██████████████████████████████████████████████████████████████████████████████████████████████████████████████████████████████████████████████████████▉   | 98/100 [04:15<00:05,  2.94s/it]Warning 1: TIFFReadDirectory:Sum of Photometric type-related color channels and ExtraSamples doesn't match SamplesPerPixel. Defining non-color channels as ExtraSamples.\n",
      "Extracting images:  99%|████████████████████████████████████████████████████████████████████████████████████████████████████████████████████████████████████████████████████████▍ | 99/100 [04:17<00:02,  2.90s/it]Warning 1: TIFFReadDirectory:Sum of Photometric type-related color channels and ExtraSamples doesn't match SamplesPerPixel. Defining non-color channels as ExtraSamples.\n",
      "Extracting images: 100%|█████████████████████████████████████████████████████████████████████████████████████████████████████████████████████████████████████████████████████████| 100/100 [04:20<00:00,  2.61s/it]\n"
     ]
    },
    {
     "name": "stdout",
     "output_type": "stream",
     "text": [
      "mmeansemory allocated:6.974609375/ memory reserved:6.974609375\n"
     ]
    },
    {
     "ename": "RuntimeError",
     "evalue": "Expected all tensors to be on the same device, but found at least two devices, cuda:0 and cpu!",
     "output_type": "error",
     "traceback": [
      "\u001b[0;31m---------------------------------------------------------------------------\u001b[0m",
      "\u001b[0;31mRuntimeError\u001b[0m                              Traceback (most recent call last)",
      "Cell \u001b[0;32mIn[6], line 14\u001b[0m\n\u001b[1;32m     12\u001b[0m r\u001b[38;5;241m=\u001b[39m torch\u001b[38;5;241m.\u001b[39mcuda\u001b[38;5;241m.\u001b[39mmemory_reserved(\u001b[38;5;241m0\u001b[39m)\n\u001b[1;32m     13\u001b[0m \u001b[38;5;28mprint\u001b[39m(\u001b[38;5;124mf\u001b[39m\u001b[38;5;124m'\u001b[39m\u001b[38;5;124mmmeansemory allocated:\u001b[39m\u001b[38;5;132;01m{\u001b[39;00ma\u001b[38;5;241m/\u001b[39m(\u001b[38;5;241m1024.0\u001b[39m\u001b[38;5;241m*\u001b[39m\u001b[38;5;241m1024.0\u001b[39m\u001b[38;5;241m*\u001b[39m\u001b[38;5;241m1024.0\u001b[39m)\u001b[38;5;132;01m}\u001b[39;00m\u001b[38;5;124m/ memory reserved:\u001b[39m\u001b[38;5;132;01m{\u001b[39;00mr\u001b[38;5;241m/\u001b[39m(\u001b[38;5;241m1024.0\u001b[39m\u001b[38;5;241m*\u001b[39m\u001b[38;5;241m1024.0\u001b[39m\u001b[38;5;241m*\u001b[39m\u001b[38;5;241m1024.0\u001b[39m)\u001b[38;5;132;01m}\u001b[39;00m\u001b[38;5;124m'\u001b[39m)\n\u001b[0;32m---> 14\u001b[0m means \u001b[38;5;241m=\u001b[39m \u001b[43mmeans\u001b[49m\u001b[38;5;241;43m-\u001b[39;49m\u001b[43mmeans\u001b[49m\u001b[38;5;241;43m/\u001b[39;49m\u001b[43m(\u001b[49m\u001b[43mi\u001b[49m\u001b[38;5;241;43m+\u001b[39;49m\u001b[38;5;241;43m1\u001b[39;49m\u001b[43m)\u001b[49m\u001b[38;5;241;43m+\u001b[39;49m\u001b[43mtorch\u001b[49m\u001b[38;5;241;43m.\u001b[39;49m\u001b[43mmean\u001b[49m\u001b[43m(\u001b[49m\u001b[43mimages\u001b[49m\u001b[43m,\u001b[49m\u001b[38;5;241;43m2\u001b[39;49m\u001b[43m)\u001b[49m\u001b[38;5;241;43m.\u001b[39;49m\u001b[43msqueeze\u001b[49m\u001b[43m(\u001b[49m\u001b[43m)\u001b[49m\u001b[38;5;241;43m/\u001b[39;49m\u001b[43m(\u001b[49m\u001b[43mi\u001b[49m\u001b[38;5;241;43m+\u001b[39;49m\u001b[38;5;241;43m1\u001b[39;49m\u001b[43m)\u001b[49m\n\u001b[1;32m     15\u001b[0m std \u001b[38;5;241m=\u001b[39m std\u001b[38;5;241m-\u001b[39mstd\u001b[38;5;241m/\u001b[39m(i\u001b[38;5;241m+\u001b[39m\u001b[38;5;241m1\u001b[39m)\u001b[38;5;241m+\u001b[39mtorch\u001b[38;5;241m.\u001b[39mstd(images,\u001b[38;5;241m2\u001b[39m)\u001b[38;5;241m.\u001b[39msqueeze()\u001b[38;5;241m/\u001b[39m(i\u001b[38;5;241m+\u001b[39m\u001b[38;5;241m1\u001b[39m)\n\u001b[1;32m     16\u001b[0m \u001b[38;5;28mprint\u001b[39m(means)\n",
      "\u001b[0;31mRuntimeError\u001b[0m: Expected all tensors to be on the same device, but found at least two devices, cuda:0 and cpu!"
     ]
    }
   ],
   "source": [
    "means=torch.zeros(13,device='cuda:0')\n",
    "std=torch.zeros(13,device='cuda:0')\n",
    "for i in range(53):\n",
    "    onlyfiles1=onlyfiles[100*i:100*(i+1)]\n",
    "    images= split.ExtractImages_imagesonly(data_path,onlyfiles1)\n",
    "    to_tensor=  transforms.ToTensor()\n",
    "    device = torch.device('cuda:0') if torch.cuda.is_available() else 'cpu'\n",
    "    images= np.concatenate(images,1)\n",
    "    images= to_tensor(images)\n",
    "    images=images.to(device).detach()\n",
    "    a = torch.cuda.memory_allocated(0)\n",
    "    r= torch.cuda.memory_reserved(0)\n",
    "    print(f'mmeansemory allocated:{a/(1024.0*1024.0*1024.0)}/ memory reserved:{r/(1024.0*1024.0*1024.0)}')\n",
    "    means = means-means/(i+1)+torch.mean(images,2).squeeze()/(i+1)\n",
    "    std = std-std/(i+1)+torch.std(images,2).squeeze()/(i+1)\n",
    "    print(means)\n",
    "    print(std)\n",
    "\n",
    "\n"
   ]
  },
  {
   "cell_type": "code",
   "execution_count": null,
   "metadata": {},
   "outputs": [
    {
     "name": "stdout",
     "output_type": "stream",
     "text": [
      "tensor([11.0551, 50.8178], device='cuda:0', dtype=torch.float64)\n",
      "tensor([1.9841, 1.8167], device='cuda:0', dtype=torch.float64)\n"
     ]
    }
   ],
   "source": [
    "data = [f.replace(\".tiff\",\"\").split(\"_\") for f in os.listdir(data_path) if os.path.isfile(os.path.join(data_path, f))]\n",
    "rastercenters= np.array([np.array([float(d[2]),float(d[1])]) for d in data])\n",
    "rastercenters=torch.from_numpy(rastercenters)\n",
    "rastercenters=rastercenters.to('cuda:0')\n",
    "meancoor =torch.mean(rastercenters,0)\n",
    "stdcoor =torch.std(rastercenters,0)\n",
    "print (meancoor)\n",
    "print (stdcoor)\n"
   ]
  }
 ],
 "metadata": {
  "kernelspec": {
   "display_name": "Python 3 (ipykernel)",
   "language": "python",
   "name": "python3"
  },
  "language_info": {
   "codemirror_mode": {
    "name": "ipython",
    "version": 3
   },
   "file_extension": ".py",
   "mimetype": "text/x-python",
   "name": "python",
   "nbconvert_exporter": "python",
   "pygments_lexer": "ipython3",
   "version": "3.12.2"
  }
 },
 "nbformat": 4,
 "nbformat_minor": 2
}
