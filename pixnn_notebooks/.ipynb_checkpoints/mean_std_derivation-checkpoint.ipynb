{
 "cells": [
  {
   "cell_type": "code",
   "execution_count": 11,
   "metadata": {},
   "outputs": [],
   "source": [
    "import sys\n",
    "sys.path.append(\"../\")\n",
    "from PIL import Image\n",
    "import numpy as np\n",
    "import os\n",
    "import torch\n",
    "from pathlib import Path\n",
    "import rasterio\n",
    "from rasterio.mask import mask\n",
    "from shapely.geometry import box\n",
    "import json\n",
    "from torchvision import datasets, transforms\n",
    "import random\n",
    "import pycrs\n",
    "from tqdm import tqdm\n",
    "import geopandas as gpd\n",
    "import gc\n",
    "from split_tiff import Split\n",
    "\n",
    "split=Split()\n",
    "torch.cuda.empty_cache()\n",
    "gc.collect()\n",
    "\n",
    "data_path= \"/mnt/9TB/koubaa/23_06_26_09\"\n",
    "onlyfiles = [f for f in os.listdir(data_path) if os.path.isfile(os.path.join(data_path, f))]"
   ]
  },
  {
   "cell_type": "code",
   "execution_count": 12,
   "metadata": {},
   "outputs": [
    {
     "name": "stdout",
     "output_type": "stream",
     "text": [
      "5308\n"
     ]
    }
   ],
   "source": [
    "random.shuffle(onlyfiles)\n",
    "print(len(onlyfiles))\n"
   ]
  },
  {
   "cell_type": "code",
   "execution_count": 13,
   "metadata": {},
   "outputs": [
    {
     "name": "stderr",
     "output_type": "stream",
     "text": [
      "Extracting images:  10%|███████████████▍                                                                                                                                          | 10/100 [00:07<01:05,  1.37it/s]\n"
     ]
    },
    {
     "ename": "KeyboardInterrupt",
     "evalue": "",
     "output_type": "error",
     "traceback": [
      "\u001b[0;31m---------------------------------------------------------------------------\u001b[0m",
      "\u001b[0;31mKeyboardInterrupt\u001b[0m                         Traceback (most recent call last)",
      "Cell \u001b[0;32mIn[13], line 5\u001b[0m\n\u001b[1;32m      3\u001b[0m \u001b[38;5;28;01mfor\u001b[39;00m i \u001b[38;5;129;01min\u001b[39;00m \u001b[38;5;28mrange\u001b[39m(\u001b[38;5;241m53\u001b[39m):\n\u001b[1;32m      4\u001b[0m     onlyfiles1\u001b[38;5;241m=\u001b[39monlyfiles[\u001b[38;5;241m100\u001b[39m\u001b[38;5;241m*\u001b[39mi:\u001b[38;5;241m100\u001b[39m\u001b[38;5;241m*\u001b[39m(i\u001b[38;5;241m+\u001b[39m\u001b[38;5;241m1\u001b[39m)]\n\u001b[0;32m----> 5\u001b[0m     images\u001b[38;5;241m=\u001b[39m split\u001b[38;5;241m.\u001b[39mExtractImages_imagesonly(data_path,onlyfiles1)\n\u001b[1;32m      6\u001b[0m     to_tensor\u001b[38;5;241m=\u001b[39m  transforms\u001b[38;5;241m.\u001b[39mToTensor()\n\u001b[1;32m      7\u001b[0m     device \u001b[38;5;241m=\u001b[39m torch\u001b[38;5;241m.\u001b[39mdevice(\u001b[38;5;124m'\u001b[39m\u001b[38;5;124mcuda:0\u001b[39m\u001b[38;5;124m'\u001b[39m) \u001b[38;5;28;01mif\u001b[39;00m torch\u001b[38;5;241m.\u001b[39mcuda\u001b[38;5;241m.\u001b[39mis_available() \u001b[38;5;28;01melse\u001b[39;00m \u001b[38;5;124m'\u001b[39m\u001b[38;5;124mcpu\u001b[39m\u001b[38;5;124m'\u001b[39m\n",
      "File \u001b[0;32m~/projects/solarfarms_de/notebooks/../split_tiff.py:145\u001b[0m, in \u001b[0;36mSplit.ExtractImages_imagesonly\u001b[0;34m(self, image_filepath, onlyfiles)\u001b[0m\n\u001b[1;32m    143\u001b[0m     band \u001b[38;5;241m=\u001b[39m tiff\u001b[38;5;241m.\u001b[39mread()\n\u001b[1;32m    144\u001b[0m     image \u001b[38;5;241m=\u001b[39m np\u001b[38;5;241m.\u001b[39marray(band)\n\u001b[0;32m--> 145\u001b[0m     images\u001b[38;5;241m.\u001b[39mappend(image\u001b[38;5;241m.\u001b[39mastype(\u001b[38;5;124m'\u001b[39m\u001b[38;5;124mfloat32\u001b[39m\u001b[38;5;124m'\u001b[39m)\u001b[38;5;241m.\u001b[39mreshape((\u001b[38;5;241m13\u001b[39m,\u001b[38;5;241m-\u001b[39m\u001b[38;5;241m1\u001b[39m)))\n\u001b[1;32m    146\u001b[0m     \u001b[38;5;66;03m#print(coos, image.shape())\u001b[39;00m\n\u001b[1;32m    147\u001b[0m \u001b[38;5;28;01mreturn\u001b[39;00m images\n",
      "\u001b[0;31mKeyboardInterrupt\u001b[0m: "
     ]
    }
   ],
   "source": [
    "means=torch.zeros(13)\n",
    "std=torch.zeros(13)\n",
    "for i in range(53):\n",
    "    onlyfiles1=onlyfiles[100*i:100*(i+1)]\n",
    "    images= split.ExtractImages_imagesonly(data_path,onlyfiles1)\n",
    "    to_tensor=  transforms.ToTensor()\n",
    "    device = torch.device('cuda:0') if torch.cuda.is_available() else 'cpu'\n",
    "    images= np.concatenate(images,1)\n",
    "    images= to_tensor(images)\n",
    "    images=images.to(device).detach()\n",
    "    a = torch.cuda.memory_allocated(0)\n",
    "    r= torch.cuda.memory_reserved(0)\n",
    "    print(f'mmeansemory allocated:{a/(1024.0*1024.0*1024.0)}/ memory reserved:{r/(1024.0*1024.0*1024.0)}')\n",
    "    means = means-means/(i+1)+torch.mean(images,2).squeeze()/(i+1)\n",
    "    std = std-std/(i+1)+torch.std(images,2).squeeze()/(i+1)\n",
    "    print(means)\n",
    "    print(std)\n",
    "\n",
    "\n"
   ]
  },
  {
   "cell_type": "code",
   "execution_count": null,
   "metadata": {},
   "outputs": [
    {
     "name": "stdout",
     "output_type": "stream",
     "text": [
      "tensor([11.0551, 50.8178], device='cuda:0', dtype=torch.float64)\n",
      "tensor([1.9841, 1.8167], device='cuda:0', dtype=torch.float64)\n"
     ]
    }
   ],
   "source": [
    "data = [f.replace(\".tiff\",\"\").split(\"_\") for f in os.listdir(data_path) if os.path.isfile(os.path.join(data_path, f))]\n",
    "rastercenters= np.array([np.array([float(d[2]),float(d[1])]) for d in data])\n",
    "rastercenters=torch.from_numpy(rastercenters)\n",
    "rastercenters=rastercenters.to('cuda:0')\n",
    "meancoor =torch.mean(rastercenters,0)\n",
    "stdcoor =torch.std(rastercenters,0)\n",
    "print (meancoor)\n",
    "print (stdcoor)\n"
   ]
  }
 ],
 "metadata": {
  "kernelspec": {
   "display_name": "Python 3 (ipykernel)",
   "language": "python",
   "name": "python3"
  }
 },
 "nbformat": 4,
 "nbformat_minor": 2
}
