{
 "cells": [
  {
   "cell_type": "code",
   "execution_count": 5,
   "metadata": {},
   "outputs": [
    {
     "data": {
      "application/vnd.jupyter.widget-view+json": {
       "model_id": "93652c38d2a244af8a7023823dffba81",
       "version_major": 2,
       "version_minor": 0
      },
      "text/plain": [
       "HTML(value='<div>                        <script type=\"text/javascript\">window.PlotlyConfig = {MathJaxConfig: …"
      ]
     },
     "metadata": {},
     "output_type": "display_data"
    }
   ],
   "source": [
    "from plotly.offline import plot\n",
    "import plotly.graph_objs as go\n",
    "from ipywidgets import HTML\n",
    "fig = go.Figure()\n",
    "scatter = go.Scatter(x=[0,1,2,3], y=[0,1,2,3],\n",
    "                     mode='lines', name='test',\n",
    "                     opacity=0.8, marker_color='green')\n",
    "fig.add_trace(scatter)\n",
    "plt_div = plot(fig, output_type='div')\n",
    "k=HTML(plt_div)\n",
    "display(k)"
   ]
  }
 ],
 "metadata": {
  "kernelspec": {
   "display_name": "Python 3 (ipykernel)",
   "language": "python",
   "name": "python3"
  },
  "language_info": {
   "codemirror_mode": {
    "name": "ipython",
    "version": 3
   },
   "file_extension": ".py",
   "mimetype": "text/x-python",
   "name": "python",
   "nbconvert_exporter": "python",
   "pygments_lexer": "ipython3",
   "version": "3.12.2"
  }
 },
 "nbformat": 4,
 "nbformat_minor": 2
}
